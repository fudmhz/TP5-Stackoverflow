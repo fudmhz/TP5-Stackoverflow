{
  "nbformat": 4,
  "nbformat_minor": 0,
  "metadata": {
    "colab": {
      "name": "TP5_exploratory_analysis",
      "provenance": [],
      "authorship_tag": "ABX9TyPRoTGAQSbQep7OTsk4z0vi",
      "include_colab_link": true
    },
    "kernelspec": {
      "name": "python3",
      "display_name": "Python 3"
    },
    "language_info": {
      "name": "python"
    }
  },
  "cells": [
    {
      "cell_type": "markdown",
      "metadata": {
        "id": "view-in-github",
        "colab_type": "text"
      },
      "source": [
        "<a href=\"https://colab.research.google.com/github/fudmhz/TP5-Stackoverflow/blob/main/TP5_exploratory_analysis.ipynb\" target=\"_parent\"><img src=\"https://colab.research.google.com/assets/colab-badge.svg\" alt=\"Open In Colab\"/></a>"
      ]
    },
    {
      "cell_type": "markdown",
      "source": [
        "# TP5 Catégorisez automatiquement des questions\n",
        "\n",
        "In this notebook we extract data from stackoverflow questions and perform an exploratory data analysis of the dataset.\n",
        "\n",
        "The data can be originally found at: https://data.stackexchange.com/stackoverflow/query/new\n",
        "\n"
      ],
      "metadata": {
        "id": "Eu_3JH7FEH_W"
      }
    },
    {
      "cell_type": "code",
      "source": [
        ""
      ],
      "metadata": {
        "id": "P8mTQ4imD8rb"
      },
      "execution_count": null,
      "outputs": []
    }
  ]
}